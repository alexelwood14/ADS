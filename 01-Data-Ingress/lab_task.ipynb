{
 "cells": [
  {
   "attachments": {},
   "cell_type": "markdown",
   "metadata": {},
   "source": [
    "# Lab 1: Data Scrapping from the Web"
   ]
  },
  {
   "cell_type": "code",
   "execution_count": 92,
   "metadata": {},
   "outputs": [],
   "source": [
    "from __future__ import print_function\n",
    "\n",
    "from bs4 import BeautifulSoup\n",
    "from bs4 import ResultSet\n",
    "\n",
    "import requests\n",
    "import json \n",
    "\n",
    "import time\n",
    "import datetime"
   ]
  },
  {
   "cell_type": "code",
   "execution_count": 65,
   "metadata": {},
   "outputs": [],
   "source": [
    "url = 'https://www.theguardian.com/books/2023/jan/18/ts-eliot-prize-winner-anthony-joseph-how-poetry-helped-me-love-my-absent-father'\n",
    "req = requests.get(url)\n",
    "source = req.text\n",
    "soup = BeautifulSoup(source, 'html.parser')"
   ]
  },
  {
   "attachments": {},
   "cell_type": "markdown",
   "metadata": {},
   "source": [
    "## Web scraping using Beautiful Soup \n",
    "\n",
    "### Task 1: Find all in body links\n",
    "\n",
    "Open the above URL in your browser. You will notice that parts of the main news story are hyperlinked\n",
    "to other news stories published previously. For instance, the first paragraph is linked to a news story on\n",
    "Anthony Joseph winning the TS Eliot prize. Your first task is to extract the links to these other news\n",
    "stories in the main news. "
   ]
  },
  {
   "cell_type": "code",
   "execution_count": 66,
   "metadata": {},
   "outputs": [
    {
     "name": "stdout",
     "output_type": "stream",
     "text": [
      "https://www.theguardian.com/books/2023/jan/16/anthony-joseph-wins-ts-eliot-prize-for-luminous-poetry-collection TS Eliot prize\n",
      "https://www.theguardian.com/books/2018/aug/04/kitch-anthony-joseph-review-windrush-trinidad-calypso in his Guardian revi\n",
      "https://www.theguardian.com/books/poetry Poetry\n",
      "https://guardianbookshop.com/sonnets-for-albert-9781526649942 guardianbookshop.com\n"
     ]
    }
   ],
   "source": [
    "articles = soup.find_all('a', attrs={\n",
    "    'data-link-name': 'in body link'\n",
    "})\n",
    "\n",
    "for article in articles: \n",
    "    print(article['href'][:], article.text[:20])"
   ]
  },
  {
   "attachments": {},
   "cell_type": "markdown",
   "metadata": {},
   "source": [
    "### Task 2. Extracting Topics or Categories"
   ]
  },
  {
   "cell_type": "code",
   "execution_count": 67,
   "metadata": {},
   "outputs": [
    {
     "name": "stdout",
     "output_type": "stream",
     "text": [
      "/books/books Books\n",
      "/books/ts-eliot-prize-for-poetry TS Eliot prize for p\n",
      "/books/poetry Poetry\n",
      "/culture/awards-and-prizes Awards and prizes\n",
      "/tone/interview interviews\n"
     ]
    }
   ],
   "source": [
    "articles = soup.find_all('a', attrs={\n",
    "    'class' : 'dcr-viu5to'\n",
    "})\n",
    "\n",
    "for article in articles: \n",
    "    print(article['href'][:], article.text[:20])"
   ]
  },
  {
   "attachments": {},
   "cell_type": "markdown",
   "metadata": {},
   "source": [
    "### Task 3. Listing All News Stories in a Section "
   ]
  },
  {
   "cell_type": "code",
   "execution_count": 68,
   "metadata": {},
   "outputs": [],
   "source": [
    "url = 'https://www.theguardian.com/uk/technology'\n",
    "req = requests.get(url)\n",
    "source = req.text\n",
    "soup = BeautifulSoup(source, 'html.parser')"
   ]
  },
  {
   "cell_type": "code",
   "execution_count": 69,
   "metadata": {},
   "outputs": [
    {
     "name": "stdout",
     "output_type": "stream",
     "text": [
      "https://www.theguardian.com/technology/2023/jan/27/elon-musk-doesnt-seem-like-right-person-to-own-twitter-says-co-founder Tesla CEO ‘doesn’t s\n",
      "https://www.theguardian.com/technology/2023/jan/26/state-linked-hackers-in-russia-and-iran-are-targeting-uk-groups-ncsc-warns State-linked hackers\n",
      "https://www.theguardian.com/technology/2023/jan/25/first-uk-industrial-action-against-amazon-is-making-an-impact-says-gmb First UK industrial \n",
      "https://www.theguardian.com/technology/2023/jan/25/microsoft-investigates-outage-affecting-teams-and-outlook-users-worldwide Company investigates\n",
      "https://www.theguardian.com/technology/2022/oct/31/google-pixel-7-review-camera-price-android-software Cracking camera at a\n",
      "https://www.theguardian.com/technology/2022/oct/10/iphone-14-review-apple-price-design Familiar design but \n",
      "https://www.theguardian.com/technology/2022/sep/05/samsung-galaxy-z-fold-4-review-cutting-edge-excellence-at-eye-watering-price Cutting-edge excelle\n",
      "https://www.theguardian.com/technology/2022/aug/29/samsung-galaxy-z-flip-4-review-folding-screen-flipper-stands-out-from-crowd-cameras-battery Folding-screen flipp\n",
      "https://www.theguardian.com/technology/2023/jan/23/surface-pro-9-review-microsofts-best-tablet-if-you-pick-the-right-one Microsoft’s best tab\n",
      "https://www.theguardian.com/technology/2022/dec/29/guardian-tech-reviews-2022-repair-recycled-materials Better to repair and\n",
      "https://www.theguardian.com/technology/2022/dec/20/amazon-kindle-scribe-review-e-reader-battery-life-screen Supersized e-reader \n",
      "https://www.theguardian.com/technology/2022/dec/14/bose-quietcomfort-earbuds-2-review-noise-cancelling-sound-battery-life The new noise-cancel\n",
      "https://www.theguardian.com/technology/video/2022/dec/17/twitter-suspension-of-journalist-accounts-sets-dangerous-precedent-says-un-video Twitter suspension o\n",
      "https://www.theguardian.com/technology/video/2022/dec/12/elon-musk-booed-by-crowd-after-dave-chappelle-introduces-him-on-stage-video Elon Musk booed by c\n",
      "https://www.theguardian.com/technology/video/2022/dec/11/will-drone-deliveries-be-widely-available-in-australia-soon-video Will drone deliverie\n",
      "https://www.theguardian.com/technology/2023/jan/27/elon-musk-doesnt-seem-like-right-person-to-own-twitter-says-co-founder Elon Musk ‘doesn’t s\n",
      "https://www.theguardian.com/technology/2022/aug/06/andrew-tate-violent-misogynistic-world-of-tiktok-new-star Inside the violent, \n",
      "https://www.theguardian.com/technology/2023/jan/26/state-linked-hackers-in-russia-and-iran-are-targeting-uk-groups-ncsc-warns State-linked hackers\n",
      "https://www.theguardian.com/technology/2023/jan/23/surface-pro-9-review-microsofts-best-tablet-if-you-pick-the-right-one Surface Pro 9 review\n",
      "https://www.theguardian.com/technology/2023/jan/13/chatgpt-explainer-what-can-artificial-intelligence-chatbot-do-ai ChatGPT: what can th\n",
      "https://www.theguardian.com/technology/2023/jan/17/free-the-nipple-meta-facebook-instagram Free the nipple: Fac\n",
      "https://www.theguardian.com/technology/2023/jan/25/microsoft-investigates-outage-affecting-teams-and-outlook-users-worldwide Microsoft investigat\n",
      "https://www.theguardian.com/technology/2022/dec/31/ai-assisted-plagiarism-chatgpt-bot-says-it-has-an-answer-for-that AI-assisted plagiari\n",
      "https://www.theguardian.com/technology/2022/dec/04/ai-bot-chatgpt-stuns-academics-with-essay-writing-skills-and-usability AI bot ChatGPT stuns\n",
      "https://www.theguardian.com/technology/2022/jun/20/rise-of-the-sides-how-grindr-finally-recognized-gay-men-who-arent-tops-or-bottoms Rise of the sides: h\n"
     ]
    }
   ],
   "source": [
    "articles = soup.find_all('a', attrs={\n",
    "    'class': 'js-headline-text'\n",
    "})\n",
    "\n",
    "prefix = 'https://www.theguardian.com/technology'\n",
    "for article in articles: \n",
    "    if article['href'].startswith(prefix):\n",
    "        print(article['href'][:], article.text[:20])"
   ]
  },
  {
   "attachments": {},
   "cell_type": "markdown",
   "metadata": {},
   "source": [
    "### Task 4. List 50 Most Recent Technology-Related News Stories "
   ]
  },
  {
   "cell_type": "code",
   "execution_count": 70,
   "metadata": {},
   "outputs": [
    {
     "name": "stdout",
     "output_type": "stream",
     "text": [
      "There are 50 articles.\n",
      "https://www.theguardian.com/us-news/commentisfree/2023/jan/27/trump-return-facebook-meta-hypocrisy-democracy Facebook is allowing\n",
      "https://www.theguardian.com/fashion/2023/jan/27/what-bereal-selfies-have-taught-me-about-my-fashion-choices The camera never lie\n",
      "https://www.theguardian.com/tv-and-radio/2023/jan/28/mumbling-actors-bad-speakers-or-lazy-listeners-why-everyone-is-watching-tv-with-subtitles-on Mumbling actors, bad\n",
      "https://www.theguardian.com/stage/2023/jan/27/saint-jude-review-swamp-motel-london Saint Jude review – \n",
      "https://www.theguardian.com/environment/2023/jan/27/daily-wire-google-ads-climate-crisis-deniers Google let Daily Wir\n",
      "https://www.theguardian.com/technology/2023/jan/27/elon-musk-doesnt-seem-like-right-person-to-own-twitter-says-co-founder Elon Musk ‘doesn’t s\n",
      "https://www.theguardian.com/us-news/2023/jan/26/uber-lyft-new-york-zero-emission-2030 Uber and Lyft in New\n",
      "https://www.theguardian.com/society/2023/jan/27/covid-lockdowns-created-online-backdoor-for-child-abusers-says-charity Covid lockdowns crea\n",
      "https://www.theguardian.com/media/2023/jan/26/buzzfeed-artifical-intelligence-content-quizzes-chatgpt BuzzFeed to use AI t\n",
      "https://www.theguardian.com/us-news/live/2023/jan/26/trump-facebook-ban-meta-biden-economy-politics-live-updates Biden vows to veto R\n",
      "https://www.theguardian.com/science/2023/jan/26/science-journals-ban-listing-of-chatgpt-as-co-author-on-papers Science journals ban\n",
      "https://www.theguardian.com/us-news/2023/jan/26/hive-ransomware-servers-seized-us US authorities seize\n",
      "https://www.theguardian.com/us-news/2023/jan/26/donald-trump-truth-social-posts-bode-ill-return-facebook Donald Trump’s Truth\n",
      "https://www.theguardian.com/media/2023/jan/26/the-one-change-that-didnt-work-giving-up-social-media-left-me-bored The one change that \n",
      "https://www.theguardian.com/tv-and-radio/2023/jan/26/hear-here-love-janessa-podcast Best podcasts of the\n",
      "https://www.theguardian.com/science/audio/2023/jan/26/how-will-chatgpt-transform-creative-work-podcast How will ChatGPT tra\n",
      "https://www.theguardian.com/us-news/2023/jan/25/trump-facebook-ban-lifted-unbanned-instagram-meta-pages-latest Trump’s Facebook and\n",
      "https://www.theguardian.com/technology/2023/jan/26/state-linked-hackers-in-russia-and-iran-are-targeting-uk-groups-ncsc-warns State-linked hackers\n",
      "https://www.theguardian.com/artanddesign/2023/jan/25/pepper-spray-school-run-apocalyptic-suv-reznavi-vengeange Pepper spray for the\n",
      "https://www.theguardian.com/technology/2023/jan/25/first-uk-industrial-action-against-amazon-is-making-an-impact-says-gmb First UK industrial \n",
      "https://www.theguardian.com/us-news/commentisfree/2023/jan/27/trump-return-facebook-meta-hypocrisy-democracy Facebook is allowing\n",
      "https://www.theguardian.com/fashion/2023/jan/27/what-bereal-selfies-have-taught-me-about-my-fashion-choices The camera never lie\n",
      "https://www.theguardian.com/tv-and-radio/2023/jan/28/mumbling-actors-bad-speakers-or-lazy-listeners-why-everyone-is-watching-tv-with-subtitles-on Mumbling actors, bad\n",
      "https://www.theguardian.com/stage/2023/jan/27/saint-jude-review-swamp-motel-london Saint Jude review – \n",
      "https://www.theguardian.com/environment/2023/jan/27/daily-wire-google-ads-climate-crisis-deniers Google let Daily Wir\n",
      "https://www.theguardian.com/technology/2023/jan/27/elon-musk-doesnt-seem-like-right-person-to-own-twitter-says-co-founder Elon Musk ‘doesn’t s\n",
      "https://www.theguardian.com/us-news/2023/jan/26/uber-lyft-new-york-zero-emission-2030 Uber and Lyft in New\n",
      "https://www.theguardian.com/society/2023/jan/27/covid-lockdowns-created-online-backdoor-for-child-abusers-says-charity Covid lockdowns crea\n",
      "https://www.theguardian.com/media/2023/jan/26/buzzfeed-artifical-intelligence-content-quizzes-chatgpt BuzzFeed to use AI t\n",
      "https://www.theguardian.com/us-news/live/2023/jan/26/trump-facebook-ban-meta-biden-economy-politics-live-updates Biden vows to veto R\n",
      "https://www.theguardian.com/science/2023/jan/26/science-journals-ban-listing-of-chatgpt-as-co-author-on-papers Science journals ban\n",
      "https://www.theguardian.com/us-news/2023/jan/26/hive-ransomware-servers-seized-us US authorities seize\n",
      "https://www.theguardian.com/us-news/2023/jan/26/donald-trump-truth-social-posts-bode-ill-return-facebook Donald Trump’s Truth\n",
      "https://www.theguardian.com/media/2023/jan/26/the-one-change-that-didnt-work-giving-up-social-media-left-me-bored The one change that \n",
      "https://www.theguardian.com/tv-and-radio/2023/jan/26/hear-here-love-janessa-podcast Best podcasts of the\n",
      "https://www.theguardian.com/science/audio/2023/jan/26/how-will-chatgpt-transform-creative-work-podcast How will ChatGPT tra\n",
      "https://www.theguardian.com/us-news/2023/jan/25/trump-facebook-ban-lifted-unbanned-instagram-meta-pages-latest Trump’s Facebook and\n",
      "https://www.theguardian.com/technology/2023/jan/26/state-linked-hackers-in-russia-and-iran-are-targeting-uk-groups-ncsc-warns State-linked hackers\n",
      "https://www.theguardian.com/artanddesign/2023/jan/25/pepper-spray-school-run-apocalyptic-suv-reznavi-vengeange Pepper spray for the\n",
      "https://www.theguardian.com/technology/2023/jan/25/first-uk-industrial-action-against-amazon-is-making-an-impact-says-gmb First UK industrial \n",
      "https://www.theguardian.com/us-news/commentisfree/2023/jan/27/trump-return-facebook-meta-hypocrisy-democracy Facebook is allowing\n",
      "https://www.theguardian.com/fashion/2023/jan/27/what-bereal-selfies-have-taught-me-about-my-fashion-choices The camera never lie\n",
      "https://www.theguardian.com/tv-and-radio/2023/jan/28/mumbling-actors-bad-speakers-or-lazy-listeners-why-everyone-is-watching-tv-with-subtitles-on Mumbling actors, bad\n",
      "https://www.theguardian.com/stage/2023/jan/27/saint-jude-review-swamp-motel-london Saint Jude review – \n",
      "https://www.theguardian.com/environment/2023/jan/27/daily-wire-google-ads-climate-crisis-deniers Google let Daily Wir\n",
      "https://www.theguardian.com/technology/2023/jan/27/elon-musk-doesnt-seem-like-right-person-to-own-twitter-says-co-founder Elon Musk ‘doesn’t s\n",
      "https://www.theguardian.com/us-news/2023/jan/26/uber-lyft-new-york-zero-emission-2030 Uber and Lyft in New\n",
      "https://www.theguardian.com/society/2023/jan/27/covid-lockdowns-created-online-backdoor-for-child-abusers-says-charity Covid lockdowns crea\n",
      "https://www.theguardian.com/media/2023/jan/26/buzzfeed-artifical-intelligence-content-quizzes-chatgpt BuzzFeed to use AI t\n",
      "https://www.theguardian.com/us-news/live/2023/jan/26/trump-facebook-ban-meta-biden-economy-politics-live-updates Biden vows to veto R\n"
     ]
    }
   ],
   "source": [
    "articles = ResultSet([])\n",
    "numArticles = 50\n",
    "pageNum = 1\n",
    "\n",
    "while len(articles) < numArticles:\n",
    "    url = f'https://www.theguardian.com/technology?page={pageNum}'\n",
    "    req = requests.get(url)\n",
    "    source = req.text\n",
    "    soup = BeautifulSoup(source, 'html.parser')\n",
    "    \n",
    "    articles.extend(soup.find_all('a', attrs={\n",
    "        'data-link-name' : \"article\",\n",
    "        'class' : 'u-faux-block-link__overlay js-headline-text'\n",
    "    }))\n",
    "\n",
    "articles = articles[:50]\n",
    "print(f'There are {len(articles)} articles.')\n",
    "\n",
    "for article in articles: \n",
    "    print(article['href'][:], article.text[:20])"
   ]
  },
  {
   "attachments": {},
   "cell_type": "markdown",
   "metadata": {},
   "source": [
    "### Task 4 Bonus. List All Technology-Related New Stories Published After January 20, 2023"
   ]
  },
  {
   "cell_type": "code",
   "execution_count": 86,
   "metadata": {},
   "outputs": [],
   "source": [
    "def getTimestamp(date):\n",
    "    months = {\n",
    "        'jan': '01', \n",
    "        'feb': '02', \n",
    "        'mar': '03', \n",
    "        'apr': '04', \n",
    "        'may': '05', \n",
    "        'jun': '06', \n",
    "        'jul': '07', \n",
    "        'aug': '08', \n",
    "        'sep': '09', \n",
    "        'oct': '10', \n",
    "        'nov': '11', \n",
    "        'dec': '12'\n",
    "    }\n",
    "    date = date.split('/')\n",
    "    date[1] = months[date[1]]\n",
    "    date = date[0] + '/' + date[1] + '/' + date[2]\n",
    "    \n",
    "    element = datetime.datetime.strptime(date,\"%Y/%m/%d\")\n",
    "\n",
    "    tuple = element.timetuple()\n",
    "    timestamp = time.mktime(tuple)\n",
    "\n",
    "    return timestamp"
   ]
  },
  {
   "cell_type": "code",
   "execution_count": 91,
   "metadata": {},
   "outputs": [
    {
     "name": "stdout",
     "output_type": "stream",
     "text": [
      "There are 57 articles.\n",
      "https://www.theguardian.com/us-news/commentisfree/2023/jan/27/trump-return-facebook-meta-hypocrisy-democracy 2023/jan/27\n",
      "https://www.theguardian.com/fashion/2023/jan/27/what-bereal-selfies-have-taught-me-about-my-fashion-choices 2023/jan/27\n",
      "https://www.theguardian.com/tv-and-radio/2023/jan/28/mumbling-actors-bad-speakers-or-lazy-listeners-why-everyone-is-watching-tv-with-subtitles-on 2023/jan/28\n",
      "https://www.theguardian.com/stage/2023/jan/27/saint-jude-review-swamp-motel-london 2023/jan/27\n",
      "https://www.theguardian.com/environment/2023/jan/27/daily-wire-google-ads-climate-crisis-deniers 2023/jan/27\n",
      "https://www.theguardian.com/technology/2023/jan/27/elon-musk-doesnt-seem-like-right-person-to-own-twitter-says-co-founder 2023/jan/27\n",
      "https://www.theguardian.com/us-news/2023/jan/26/uber-lyft-new-york-zero-emission-2030 2023/jan/26\n",
      "https://www.theguardian.com/society/2023/jan/27/covid-lockdowns-created-online-backdoor-for-child-abusers-says-charity 2023/jan/27\n",
      "https://www.theguardian.com/media/2023/jan/26/buzzfeed-artifical-intelligence-content-quizzes-chatgpt 2023/jan/26\n",
      "https://www.theguardian.com/us-news/live/2023/jan/26/trump-facebook-ban-meta-biden-economy-politics-live-updates 2023/jan/26\n",
      "https://www.theguardian.com/science/2023/jan/26/science-journals-ban-listing-of-chatgpt-as-co-author-on-papers 2023/jan/26\n",
      "https://www.theguardian.com/us-news/2023/jan/26/hive-ransomware-servers-seized-us 2023/jan/26\n",
      "https://www.theguardian.com/us-news/2023/jan/26/donald-trump-truth-social-posts-bode-ill-return-facebook 2023/jan/26\n",
      "https://www.theguardian.com/media/2023/jan/26/the-one-change-that-didnt-work-giving-up-social-media-left-me-bored 2023/jan/26\n",
      "https://www.theguardian.com/tv-and-radio/2023/jan/26/hear-here-love-janessa-podcast 2023/jan/26\n",
      "https://www.theguardian.com/science/audio/2023/jan/26/how-will-chatgpt-transform-creative-work-podcast 2023/jan/26\n",
      "https://www.theguardian.com/us-news/2023/jan/25/trump-facebook-ban-lifted-unbanned-instagram-meta-pages-latest 2023/jan/25\n",
      "https://www.theguardian.com/technology/2023/jan/26/state-linked-hackers-in-russia-and-iran-are-targeting-uk-groups-ncsc-warns 2023/jan/26\n",
      "https://www.theguardian.com/artanddesign/2023/jan/25/pepper-spray-school-run-apocalyptic-suv-reznavi-vengeange 2023/jan/25\n",
      "https://www.theguardian.com/technology/2023/jan/25/first-uk-industrial-action-against-amazon-is-making-an-impact-says-gmb 2023/jan/25\n",
      "https://www.theguardian.com/politics/2023/jan/25/greedy-tories-that-rings-a-steve-bell 2023/jan/25\n",
      "https://www.theguardian.com/world/2023/jan/25/india-ban-on-bbc-modi-film-elon-musk-twitter-free-speech-emergency-laws 2023/jan/25\n",
      "https://www.theguardian.com/commentisfree/2023/jan/25/how-i-would-fix-twitter-if-i-were-ceo-margaret-sullivan 2023/jan/25\n",
      "https://www.theguardian.com/technology/2023/jan/25/microsoft-investigates-outage-affecting-teams-and-outlook-users-worldwide 2023/jan/25\n",
      "https://www.theguardian.com/commentisfree/2023/jan/25/filming-strangers-public-social-media 2023/jan/25\n",
      "https://www.theguardian.com/global-development/2023/jan/25/brazil-kenya-the-us-tech-giants-are-putting-democracy-in-peril-the-world-over 2023/jan/25\n",
      "https://www.theguardian.com/australia-news/2023/jan/25/dating-app-background-and-id-checks-being-considered-in-bid-to-fight-abuse 2023/jan/25\n",
      "https://www.theguardian.com/lifeandstyle/2023/jan/25/dating-apps-survey-questionnaire 2023/jan/25\n",
      "https://www.theguardian.com/australia-news/2023/jan/25/protesters-against-south-australian-councils-big-brother-tech-invoke-liberal-alex-antics-video 2023/jan/25\n",
      "https://www.theguardian.com/technology/2023/jan/25/musk-tells-court-he-lacked-specific-funding-to-take-tesla-private 2023/jan/25\n",
      "https://www.theguardian.com/technology/2023/jan/24/justice-department-lawsuit-google-antitrust-law-advertising 2023/jan/24\n",
      "https://www.theguardian.com/technology/2023/jan/24/twitter-sued-by-crown-estate-alleged-unpaid-rent-london-hq 2023/jan/24\n",
      "https://www.theguardian.com/film/2023/jan/24/the-wandering-earth-ii-review-frant-gwo 2023/jan/24\n",
      "https://www.theguardian.com/commentisfree/2023/jan/24/chatgpt-artificial-intelligence-jobs-economy 2023/jan/24\n",
      "https://www.theguardian.com/technology/2023/jan/24/techscape-tiktok-ban-privacy-china 2023/jan/24\n",
      "https://www.theguardian.com/lifeandstyle/2023/jan/23/fraud-investigation-super-rich 2023/jan/23\n",
      "https://www.theguardian.com/technology/2023/jan/23/microsoft-confirms-multibillion-dollar-investment-in-firm-behind-chatgpt 2023/jan/23\n",
      "https://www.theguardian.com/uk-news/2023/jan/23/zahawis-professed-lack-of-care-makes-him-unfit-for-government 2023/jan/23\n",
      "https://www.theguardian.com/technology/2023/jan/23/spotify-to-cut-600-jobs-ceo-admits-expanding-too-quickly-pandemic-tech 2023/jan/23\n",
      "https://www.theguardian.com/environment/2023/jan/23/no-miracles-needed-prof-mark-jacobson-on-how-wind-sun-and-water-can-power-the-world 2023/jan/23\n",
      "https://www.theguardian.com/business/2023/jan/23/activist-investor-elliott-stake-slack-owner-salesforce 2023/jan/23\n",
      "https://www.theguardian.com/technology/2023/jan/23/twitter-ad-free-subscription-tier-elon-musk-advertising 2023/jan/23\n",
      "https://www.theguardian.com/technology/2023/jan/23/surface-pro-9-review-microsofts-best-tablet-if-you-pick-the-right-one 2023/jan/23\n",
      "https://www.theguardian.com/commentisfree/2023/jan/23/african-leaders-who-dilute-workers-rights-for-ubers-digital-empire-harm-africa 2023/jan/23\n",
      "https://www.theguardian.com/artanddesign/2023/jan/23/its-the-opposite-of-art-why-illustrators-are-furious-about-ai 2023/jan/23\n",
      "https://www.theguardian.com/technology/2023/jan/22/elon-musk-twitter-debt 2023/jan/22\n",
      "https://www.theguardian.com/australia-news/2023/jan/23/queensland-public-schools-to-join-nsw-in-banning-students-from-chatgpt 2023/jan/23\n",
      "https://www.theguardian.com/australia-news/2023/jan/23/child-cyberbullying-at-concerning-levels-australias-esafety-commissioner-says 2023/jan/23\n",
      "https://www.theguardian.com/world/2023/jan/22/karen-levy-the-more-workers-are-monitored-the-less-likely-they-are-to-think-outside-the-box 2023/jan/22\n",
      "https://www.theguardian.com/world/2023/jan/22/japans-hi-tech-restaurants-secret-world-robot-sushi-chefs 2023/jan/22\n",
      "https://www.theguardian.com/commentisfree/2023/jan/22/the-observer-view-on-the-free-market-thinking-that-failed-britishvolt 2023/jan/22\n",
      "https://www.theguardian.com/technology/2023/jan/22/first-industrial-action-at-amazon-uk-hopes-to-strike-at-firms-union-hostility 2023/jan/22\n",
      "https://www.theguardian.com/commentisfree/2023/jan/22/what-are-we-worrying-about-when-we-worry-about-tiktok 2023/jan/22\n",
      "https://www.theguardian.com/us-news/2023/jan/21/elizabeth-holmes-mexico-plane-ticket-prosecutors 2023/jan/21\n",
      "https://www.theguardian.com/business/2023/jan/21/rentokil-pilots-facial-recognition-system-as-way-to-exterminate-rats 2023/jan/21\n",
      "https://www.theguardian.com/commentisfree/2023/jan/21/back-to-the-future-how-mastodon-is-restoring-the-lost-art-of-online-conversation 2023/jan/21\n",
      "https://www.theguardian.com/environment/2023/jan/21/phone-monitor-helps-london-tube-passengers-avoid-polluted-routes 2023/jan/21\n"
     ]
    }
   ],
   "source": [
    "articles = []\n",
    "numArticles = 50\n",
    "pageNum = 1\n",
    "dateAfter = '2023/jan/20'\n",
    "afterTimestamp = getTimestamp(dateAfter)\n",
    "dateReached = False\n",
    "\n",
    "# Loop through multiple pages if required \n",
    "while not dateReached:\n",
    "    # Scrape a page of the all technology page\n",
    "    url = f'https://www.theguardian.com/technology?page={pageNum}'\n",
    "    req = requests.get(url)\n",
    "    source = req.text\n",
    "    soup = BeautifulSoup(source, 'html.parser')\n",
    "    \n",
    "    # Find the desired HTML blocks \n",
    "    pageResults = soup.find_all('a', attrs={\n",
    "        'data-link-name' : \"article\",\n",
    "        'class' : 'u-faux-block-link__overlay js-headline-text'\n",
    "    })\n",
    "\n",
    "    # Add each result if it is after the date\n",
    "    for result in pageResults:\n",
    "        # Extract timestamp from URL\n",
    "        strippedURL = result['href'].removeprefix('https://www.theguardian.com/')\n",
    "        splitURL = strippedURL.split('/')\n",
    "        while not splitURL[0].isnumeric():\n",
    "            splitURL.pop(0)\n",
    "        articleTimestamp = getTimestamp(splitURL[0] + '/' + splitURL[1] + '/' + splitURL[2])\n",
    "        \n",
    "        # Add the article if it is after the date otherwise stop\n",
    "        if articleTimestamp > afterTimestamp:\n",
    "            articles.append(result['href'] + ' ' + splitURL[0] + '/' + splitURL[1] + '/' + splitURL[2])\n",
    "        else:\n",
    "            dateReached = True\n",
    "            break\n",
    "\n",
    "    pageNum += 1\n",
    "\n",
    "print(f'There are {len(articles)} articles.')\n",
    "\n",
    "for article in articles: \n",
    "    print(article)"
   ]
  },
  {
   "attachments": {},
   "cell_type": "markdown",
   "metadata": {},
   "source": [
    "## Using the Guiardian API\n",
    "\n",
    "### Task 6. Response Statistics"
   ]
  },
  {
   "cell_type": "code",
   "execution_count": null,
   "metadata": {},
   "outputs": [],
   "source": []
  }
 ],
 "metadata": {
  "kernelspec": {
   "display_name": "Python 3",
   "language": "python",
   "name": "python3"
  },
  "language_info": {
   "codemirror_mode": {
    "name": "ipython",
    "version": 3
   },
   "file_extension": ".py",
   "mimetype": "text/x-python",
   "name": "python",
   "nbconvert_exporter": "python",
   "pygments_lexer": "ipython3",
   "version": "3.10.6"
  },
  "orig_nbformat": 4,
  "vscode": {
   "interpreter": {
    "hash": "916dbcbb3f70747c44a77c7bcd40155683ae19c65e1c03b4aa3499c5328201f1"
   }
  }
 },
 "nbformat": 4,
 "nbformat_minor": 2
}
