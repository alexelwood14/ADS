{
 "cells": [
  {
   "attachments": {},
   "cell_type": "markdown",
   "metadata": {},
   "source": [
    "# Lab 1: Data Scrapping from the Web"
   ]
  },
  {
   "cell_type": "code",
   "execution_count": 7,
   "metadata": {},
   "outputs": [],
   "source": [
    "from __future__ import print_function\n",
    "\n",
    "from bs4 import BeautifulSoup\n",
    "import requests"
   ]
  },
  {
   "cell_type": "code",
   "execution_count": 3,
   "metadata": {},
   "outputs": [],
   "source": [
    "url = 'https://www.theguardian.com/books/2023/jan/18/ts-eliot-prize-winner-anthony-joseph-how-poetry-helped-me-love-my-absent-father'\n",
    "req = requests.get(url)\n",
    "source = req.text\n",
    "soup = BeautifulSoup(source, 'html.parser')"
   ]
  },
  {
   "attachments": {},
   "cell_type": "markdown",
   "metadata": {},
   "source": [
    "## Task 1: Find all in body links\n",
    "\n",
    "Open the above URL in your browser. You will notice that parts of the main news story are hyperlinked\n",
    "to other news stories published previously. For instance, the first paragraph is linked to a news story on\n",
    "Anthony Joseph winning the TS Eliot prize. Your first task is to extract the links to these other news\n",
    "stories in the main news. "
   ]
  },
  {
   "cell_type": "code",
   "execution_count": 12,
   "metadata": {},
   "outputs": [
    {
     "name": "stdout",
     "output_type": "stream",
     "text": [
      "4\n",
      "https://www.theguardian.com/books/2023/jan/16/anthony-joseph-wins-ts-eliot-prize-for-luminous-poetry-collection TS Eliot prize\n",
      "https://www.theguardian.com/books/2018/aug/04/kitch-anthony-joseph-review-windrush-trinidad-calypso in his Guardian revi\n",
      "https://www.theguardian.com/books/poetry Poetry\n",
      "https://guardianbookshop.com/sonnets-for-albert-9781526649942 guardianbookshop.com\n"
     ]
    }
   ],
   "source": [
    "articles = soup.find_all('a', attrs={\n",
    "    'data-link-name': 'in body link'\n",
    "})\n",
    "\n",
    "for article in articles: \n",
    "    print(article['href'][:], article.text[:20])"
   ]
  },
  {
   "attachments": {},
   "cell_type": "markdown",
   "metadata": {},
   "source": [
    "## Task 2. Extracting Topics or Categories"
   ]
  },
  {
   "cell_type": "code",
   "execution_count": 14,
   "metadata": {},
   "outputs": [
    {
     "name": "stdout",
     "output_type": "stream",
     "text": [
      "/books/books Books\n",
      "/books/ts-eliot-prize-for-poetry TS Eliot prize for p\n",
      "/books/poetry Poetry\n",
      "/culture/awards-and-prizes Awards and prizes\n",
      "/tone/interview interviews\n"
     ]
    }
   ],
   "source": [
    "articles = soup.find_all('a', attrs={\n",
    "    'class' : 'dcr-viu5to'\n",
    "})\n",
    "\n",
    "for article in articles: \n",
    "    print(article['href'][:], article.text[:20])"
   ]
  },
  {
   "attachments": {},
   "cell_type": "markdown",
   "metadata": {},
   "source": [
    "## Task 3: Task 3. Listing All News Stories in a Section "
   ]
  },
  {
   "cell_type": "code",
   "execution_count": 16,
   "metadata": {},
   "outputs": [],
   "source": [
    "url = 'https://www.theguardian.com/uk/technology'\n",
    "req = requests.get(url)\n",
    "source = req.text\n",
    "soup = BeautifulSoup(source, 'html.parser')"
   ]
  },
  {
   "cell_type": "code",
   "execution_count": 18,
   "metadata": {},
   "outputs": [
    {
     "name": "stdout",
     "output_type": "stream",
     "text": [
      "https://www.theguardian.com/technology/2023/jan/27/elon-musk-doesnt-seem-like-right-person-to-own-twitter-says-co-founder Tesla CEO ‘doesn’t s\n",
      "https://www.theguardian.com/technology/2023/jan/26/state-linked-hackers-in-russia-and-iran-are-targeting-uk-groups-ncsc-warns State-linked hackers\n",
      "https://www.theguardian.com/technology/2023/jan/25/first-uk-industrial-action-against-amazon-is-making-an-impact-says-gmb First UK industrial \n",
      "https://www.theguardian.com/technology/2023/jan/25/microsoft-investigates-outage-affecting-teams-and-outlook-users-worldwide Company investigates\n",
      "https://www.theguardian.com/technology/2022/oct/31/google-pixel-7-review-camera-price-android-software Cracking camera at a\n",
      "https://www.theguardian.com/technology/2022/oct/10/iphone-14-review-apple-price-design Familiar design but \n",
      "https://www.theguardian.com/technology/2022/sep/05/samsung-galaxy-z-fold-4-review-cutting-edge-excellence-at-eye-watering-price Cutting-edge excelle\n",
      "https://www.theguardian.com/technology/2022/aug/29/samsung-galaxy-z-flip-4-review-folding-screen-flipper-stands-out-from-crowd-cameras-battery Folding-screen flipp\n",
      "https://www.theguardian.com/technology/2023/jan/23/surface-pro-9-review-microsofts-best-tablet-if-you-pick-the-right-one Microsoft’s best tab\n",
      "https://www.theguardian.com/technology/2022/dec/29/guardian-tech-reviews-2022-repair-recycled-materials Better to repair and\n",
      "https://www.theguardian.com/technology/2022/dec/20/amazon-kindle-scribe-review-e-reader-battery-life-screen Supersized e-reader \n",
      "https://www.theguardian.com/technology/2022/dec/14/bose-quietcomfort-earbuds-2-review-noise-cancelling-sound-battery-life The new noise-cancel\n",
      "https://www.theguardian.com/technology/video/2022/dec/17/twitter-suspension-of-journalist-accounts-sets-dangerous-precedent-says-un-video Twitter suspension o\n",
      "https://www.theguardian.com/technology/video/2022/dec/12/elon-musk-booed-by-crowd-after-dave-chappelle-introduces-him-on-stage-video Elon Musk booed by c\n",
      "https://www.theguardian.com/technology/video/2022/dec/11/will-drone-deliveries-be-widely-available-in-australia-soon-video Will drone deliverie\n",
      "https://www.theguardian.com/technology/2023/jan/27/elon-musk-doesnt-seem-like-right-person-to-own-twitter-says-co-founder Elon Musk ‘doesn’t s\n",
      "https://www.theguardian.com/technology/2022/aug/06/andrew-tate-violent-misogynistic-world-of-tiktok-new-star Inside the violent, \n",
      "https://www.theguardian.com/technology/2023/jan/26/state-linked-hackers-in-russia-and-iran-are-targeting-uk-groups-ncsc-warns State-linked hackers\n",
      "https://www.theguardian.com/technology/2023/jan/25/microsoft-investigates-outage-affecting-teams-and-outlook-users-worldwide Microsoft investigat\n",
      "https://www.theguardian.com/technology/2023/jan/12/elon-musk-breaks-world-record-for-largest-loss-of-personal-fortune-in-history Elon Musk breaks wor\n",
      "https://www.theguardian.com/technology/2023/jan/25/tesla-fourth-quarter-earnings-musk-lawsuits Tesla surpasses earn\n",
      "https://www.theguardian.com/technology/2023/jan/17/free-the-nipple-meta-facebook-instagram Free the nipple: Fac\n",
      "https://www.theguardian.com/technology/2023/jan/23/surface-pro-9-review-microsofts-best-tablet-if-you-pick-the-right-one Surface Pro 9 review\n",
      "https://www.theguardian.com/technology/2022/dec/31/ai-assisted-plagiarism-chatgpt-bot-says-it-has-an-answer-for-that AI-assisted plagiari\n",
      "https://www.theguardian.com/technology/2023/jan/24/twitter-sued-by-crown-estate-alleged-unpaid-rent-london-hq Twitter sued in Lond\n"
     ]
    }
   ],
   "source": [
    "articles = soup.find_all('a', attrs={\n",
    "    'class': 'js-headline-text'\n",
    "})\n",
    "\n",
    "prefix = 'https://www.theguardian.com/technology'\n",
    "for article in articles: \n",
    "    if article['href'].startswith(prefix):\n",
    "        print(article['href'][:], article.text[:20])"
   ]
  },
  {
   "attachments": {},
   "cell_type": "markdown",
   "metadata": {},
   "source": [
    "## Task 4. List 50 Most Recent Technology-Related News Stories "
   ]
  },
  {
   "cell_type": "code",
   "execution_count": null,
   "metadata": {},
   "outputs": [],
   "source": []
  }
 ],
 "metadata": {
  "kernelspec": {
   "display_name": "Python 3",
   "language": "python",
   "name": "python3"
  },
  "language_info": {
   "codemirror_mode": {
    "name": "ipython",
    "version": 3
   },
   "file_extension": ".py",
   "mimetype": "text/x-python",
   "name": "python",
   "nbconvert_exporter": "python",
   "pygments_lexer": "ipython3",
   "version": "3.10.6"
  },
  "orig_nbformat": 4,
  "vscode": {
   "interpreter": {
    "hash": "916dbcbb3f70747c44a77c7bcd40155683ae19c65e1c03b4aa3499c5328201f1"
   }
  }
 },
 "nbformat": 4,
 "nbformat_minor": 2
}
