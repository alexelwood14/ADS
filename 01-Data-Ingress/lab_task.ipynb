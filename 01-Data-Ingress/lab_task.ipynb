{
 "cells": [
  {
   "attachments": {},
   "cell_type": "markdown",
   "metadata": {},
   "source": [
    "# Lab 1: Data Scrapping from the Web"
   ]
  },
  {
   "cell_type": "code",
   "execution_count": 177,
   "metadata": {},
   "outputs": [],
   "source": [
    "from __future__ import print_function\n",
    "\n",
    "from bs4 import BeautifulSoup\n",
    "from bs4 import ResultSet\n",
    "\n",
    "import requests\n",
    "import json \n",
    "import re\n",
    "\n",
    "import time\n",
    "import datetime\n",
    "import pandas"
   ]
  },
  {
   "cell_type": "code",
   "execution_count": 65,
   "metadata": {},
   "outputs": [],
   "source": [
    "url = 'https://www.theguardian.com/books/2023/jan/18/ts-eliot-prize-winner-anthony-joseph-how-poetry-helped-me-love-my-absent-father'\n",
    "req = requests.get(url)\n",
    "source = req.text\n",
    "soup = BeautifulSoup(source, 'html.parser')"
   ]
  },
  {
   "attachments": {},
   "cell_type": "markdown",
   "metadata": {},
   "source": [
    "## Web scraping using Beautiful Soup \n",
    "\n",
    "### Task 1: Find all in body links\n",
    "\n",
    "Open the above URL in your browser. You will notice that parts of the main news story are hyperlinked\n",
    "to other news stories published previously. For instance, the first paragraph is linked to a news story on\n",
    "Anthony Joseph winning the TS Eliot prize. Your first task is to extract the links to these other news\n",
    "stories in the main news. "
   ]
  },
  {
   "cell_type": "code",
   "execution_count": 66,
   "metadata": {},
   "outputs": [
    {
     "name": "stdout",
     "output_type": "stream",
     "text": [
      "https://www.theguardian.com/books/2023/jan/16/anthony-joseph-wins-ts-eliot-prize-for-luminous-poetry-collection TS Eliot prize\n",
      "https://www.theguardian.com/books/2018/aug/04/kitch-anthony-joseph-review-windrush-trinidad-calypso in his Guardian revi\n",
      "https://www.theguardian.com/books/poetry Poetry\n",
      "https://guardianbookshop.com/sonnets-for-albert-9781526649942 guardianbookshop.com\n"
     ]
    }
   ],
   "source": [
    "articles = soup.find_all('a', attrs={\n",
    "    'data-link-name': 'in body link'\n",
    "})\n",
    "\n",
    "for article in articles: \n",
    "    print(article['href'][:], article.text[:20])"
   ]
  },
  {
   "attachments": {},
   "cell_type": "markdown",
   "metadata": {},
   "source": [
    "### Task 2. Extracting Topics or Categories"
   ]
  },
  {
   "cell_type": "code",
   "execution_count": 67,
   "metadata": {},
   "outputs": [
    {
     "name": "stdout",
     "output_type": "stream",
     "text": [
      "/books/books Books\n",
      "/books/ts-eliot-prize-for-poetry TS Eliot prize for p\n",
      "/books/poetry Poetry\n",
      "/culture/awards-and-prizes Awards and prizes\n",
      "/tone/interview interviews\n"
     ]
    }
   ],
   "source": [
    "articles = soup.find_all('a', attrs={\n",
    "    'class' : 'dcr-viu5to'\n",
    "})\n",
    "\n",
    "for article in articles: \n",
    "    print(article['href'][:], article.text[:20])"
   ]
  },
  {
   "attachments": {},
   "cell_type": "markdown",
   "metadata": {},
   "source": [
    "### Task 3. Listing All News Stories in a Section "
   ]
  },
  {
   "cell_type": "code",
   "execution_count": 68,
   "metadata": {},
   "outputs": [],
   "source": [
    "url = 'https://www.theguardian.com/uk/technology'\n",
    "req = requests.get(url)\n",
    "source = req.text\n",
    "soup = BeautifulSoup(source, 'html.parser')"
   ]
  },
  {
   "cell_type": "code",
   "execution_count": 69,
   "metadata": {},
   "outputs": [
    {
     "name": "stdout",
     "output_type": "stream",
     "text": [
      "https://www.theguardian.com/technology/2023/jan/27/elon-musk-doesnt-seem-like-right-person-to-own-twitter-says-co-founder Tesla CEO ‘doesn’t s\n",
      "https://www.theguardian.com/technology/2023/jan/26/state-linked-hackers-in-russia-and-iran-are-targeting-uk-groups-ncsc-warns State-linked hackers\n",
      "https://www.theguardian.com/technology/2023/jan/25/first-uk-industrial-action-against-amazon-is-making-an-impact-says-gmb First UK industrial \n",
      "https://www.theguardian.com/technology/2023/jan/25/microsoft-investigates-outage-affecting-teams-and-outlook-users-worldwide Company investigates\n",
      "https://www.theguardian.com/technology/2022/oct/31/google-pixel-7-review-camera-price-android-software Cracking camera at a\n",
      "https://www.theguardian.com/technology/2022/oct/10/iphone-14-review-apple-price-design Familiar design but \n",
      "https://www.theguardian.com/technology/2022/sep/05/samsung-galaxy-z-fold-4-review-cutting-edge-excellence-at-eye-watering-price Cutting-edge excelle\n",
      "https://www.theguardian.com/technology/2022/aug/29/samsung-galaxy-z-flip-4-review-folding-screen-flipper-stands-out-from-crowd-cameras-battery Folding-screen flipp\n",
      "https://www.theguardian.com/technology/2023/jan/23/surface-pro-9-review-microsofts-best-tablet-if-you-pick-the-right-one Microsoft’s best tab\n",
      "https://www.theguardian.com/technology/2022/dec/29/guardian-tech-reviews-2022-repair-recycled-materials Better to repair and\n",
      "https://www.theguardian.com/technology/2022/dec/20/amazon-kindle-scribe-review-e-reader-battery-life-screen Supersized e-reader \n",
      "https://www.theguardian.com/technology/2022/dec/14/bose-quietcomfort-earbuds-2-review-noise-cancelling-sound-battery-life The new noise-cancel\n",
      "https://www.theguardian.com/technology/video/2022/dec/17/twitter-suspension-of-journalist-accounts-sets-dangerous-precedent-says-un-video Twitter suspension o\n",
      "https://www.theguardian.com/technology/video/2022/dec/12/elon-musk-booed-by-crowd-after-dave-chappelle-introduces-him-on-stage-video Elon Musk booed by c\n",
      "https://www.theguardian.com/technology/video/2022/dec/11/will-drone-deliveries-be-widely-available-in-australia-soon-video Will drone deliverie\n",
      "https://www.theguardian.com/technology/2023/jan/27/elon-musk-doesnt-seem-like-right-person-to-own-twitter-says-co-founder Elon Musk ‘doesn’t s\n",
      "https://www.theguardian.com/technology/2022/aug/06/andrew-tate-violent-misogynistic-world-of-tiktok-new-star Inside the violent, \n",
      "https://www.theguardian.com/technology/2023/jan/26/state-linked-hackers-in-russia-and-iran-are-targeting-uk-groups-ncsc-warns State-linked hackers\n",
      "https://www.theguardian.com/technology/2023/jan/23/surface-pro-9-review-microsofts-best-tablet-if-you-pick-the-right-one Surface Pro 9 review\n",
      "https://www.theguardian.com/technology/2023/jan/13/chatgpt-explainer-what-can-artificial-intelligence-chatbot-do-ai ChatGPT: what can th\n",
      "https://www.theguardian.com/technology/2023/jan/17/free-the-nipple-meta-facebook-instagram Free the nipple: Fac\n",
      "https://www.theguardian.com/technology/2023/jan/25/microsoft-investigates-outage-affecting-teams-and-outlook-users-worldwide Microsoft investigat\n",
      "https://www.theguardian.com/technology/2022/dec/31/ai-assisted-plagiarism-chatgpt-bot-says-it-has-an-answer-for-that AI-assisted plagiari\n",
      "https://www.theguardian.com/technology/2022/dec/04/ai-bot-chatgpt-stuns-academics-with-essay-writing-skills-and-usability AI bot ChatGPT stuns\n",
      "https://www.theguardian.com/technology/2022/jun/20/rise-of-the-sides-how-grindr-finally-recognized-gay-men-who-arent-tops-or-bottoms Rise of the sides: h\n"
     ]
    }
   ],
   "source": [
    "articles = soup.find_all('a', attrs={\n",
    "    'class': 'js-headline-text'\n",
    "})\n",
    "\n",
    "prefix = 'https://www.theguardian.com/technology'\n",
    "for article in articles: \n",
    "    if article['href'].startswith(prefix):\n",
    "        print(article['href'][:], article.text[:20])"
   ]
  },
  {
   "attachments": {},
   "cell_type": "markdown",
   "metadata": {},
   "source": [
    "### Task 4. List 50 Most Recent Technology-Related News Stories "
   ]
  },
  {
   "cell_type": "code",
   "execution_count": 70,
   "metadata": {},
   "outputs": [
    {
     "name": "stdout",
     "output_type": "stream",
     "text": [
      "There are 50 articles.\n",
      "https://www.theguardian.com/us-news/commentisfree/2023/jan/27/trump-return-facebook-meta-hypocrisy-democracy Facebook is allowing\n",
      "https://www.theguardian.com/fashion/2023/jan/27/what-bereal-selfies-have-taught-me-about-my-fashion-choices The camera never lie\n",
      "https://www.theguardian.com/tv-and-radio/2023/jan/28/mumbling-actors-bad-speakers-or-lazy-listeners-why-everyone-is-watching-tv-with-subtitles-on Mumbling actors, bad\n",
      "https://www.theguardian.com/stage/2023/jan/27/saint-jude-review-swamp-motel-london Saint Jude review – \n",
      "https://www.theguardian.com/environment/2023/jan/27/daily-wire-google-ads-climate-crisis-deniers Google let Daily Wir\n",
      "https://www.theguardian.com/technology/2023/jan/27/elon-musk-doesnt-seem-like-right-person-to-own-twitter-says-co-founder Elon Musk ‘doesn’t s\n",
      "https://www.theguardian.com/us-news/2023/jan/26/uber-lyft-new-york-zero-emission-2030 Uber and Lyft in New\n",
      "https://www.theguardian.com/society/2023/jan/27/covid-lockdowns-created-online-backdoor-for-child-abusers-says-charity Covid lockdowns crea\n",
      "https://www.theguardian.com/media/2023/jan/26/buzzfeed-artifical-intelligence-content-quizzes-chatgpt BuzzFeed to use AI t\n",
      "https://www.theguardian.com/us-news/live/2023/jan/26/trump-facebook-ban-meta-biden-economy-politics-live-updates Biden vows to veto R\n",
      "https://www.theguardian.com/science/2023/jan/26/science-journals-ban-listing-of-chatgpt-as-co-author-on-papers Science journals ban\n",
      "https://www.theguardian.com/us-news/2023/jan/26/hive-ransomware-servers-seized-us US authorities seize\n",
      "https://www.theguardian.com/us-news/2023/jan/26/donald-trump-truth-social-posts-bode-ill-return-facebook Donald Trump’s Truth\n",
      "https://www.theguardian.com/media/2023/jan/26/the-one-change-that-didnt-work-giving-up-social-media-left-me-bored The one change that \n",
      "https://www.theguardian.com/tv-and-radio/2023/jan/26/hear-here-love-janessa-podcast Best podcasts of the\n",
      "https://www.theguardian.com/science/audio/2023/jan/26/how-will-chatgpt-transform-creative-work-podcast How will ChatGPT tra\n",
      "https://www.theguardian.com/us-news/2023/jan/25/trump-facebook-ban-lifted-unbanned-instagram-meta-pages-latest Trump’s Facebook and\n",
      "https://www.theguardian.com/technology/2023/jan/26/state-linked-hackers-in-russia-and-iran-are-targeting-uk-groups-ncsc-warns State-linked hackers\n",
      "https://www.theguardian.com/artanddesign/2023/jan/25/pepper-spray-school-run-apocalyptic-suv-reznavi-vengeange Pepper spray for the\n",
      "https://www.theguardian.com/technology/2023/jan/25/first-uk-industrial-action-against-amazon-is-making-an-impact-says-gmb First UK industrial \n",
      "https://www.theguardian.com/us-news/commentisfree/2023/jan/27/trump-return-facebook-meta-hypocrisy-democracy Facebook is allowing\n",
      "https://www.theguardian.com/fashion/2023/jan/27/what-bereal-selfies-have-taught-me-about-my-fashion-choices The camera never lie\n",
      "https://www.theguardian.com/tv-and-radio/2023/jan/28/mumbling-actors-bad-speakers-or-lazy-listeners-why-everyone-is-watching-tv-with-subtitles-on Mumbling actors, bad\n",
      "https://www.theguardian.com/stage/2023/jan/27/saint-jude-review-swamp-motel-london Saint Jude review – \n",
      "https://www.theguardian.com/environment/2023/jan/27/daily-wire-google-ads-climate-crisis-deniers Google let Daily Wir\n",
      "https://www.theguardian.com/technology/2023/jan/27/elon-musk-doesnt-seem-like-right-person-to-own-twitter-says-co-founder Elon Musk ‘doesn’t s\n",
      "https://www.theguardian.com/us-news/2023/jan/26/uber-lyft-new-york-zero-emission-2030 Uber and Lyft in New\n",
      "https://www.theguardian.com/society/2023/jan/27/covid-lockdowns-created-online-backdoor-for-child-abusers-says-charity Covid lockdowns crea\n",
      "https://www.theguardian.com/media/2023/jan/26/buzzfeed-artifical-intelligence-content-quizzes-chatgpt BuzzFeed to use AI t\n",
      "https://www.theguardian.com/us-news/live/2023/jan/26/trump-facebook-ban-meta-biden-economy-politics-live-updates Biden vows to veto R\n",
      "https://www.theguardian.com/science/2023/jan/26/science-journals-ban-listing-of-chatgpt-as-co-author-on-papers Science journals ban\n",
      "https://www.theguardian.com/us-news/2023/jan/26/hive-ransomware-servers-seized-us US authorities seize\n",
      "https://www.theguardian.com/us-news/2023/jan/26/donald-trump-truth-social-posts-bode-ill-return-facebook Donald Trump’s Truth\n",
      "https://www.theguardian.com/media/2023/jan/26/the-one-change-that-didnt-work-giving-up-social-media-left-me-bored The one change that \n",
      "https://www.theguardian.com/tv-and-radio/2023/jan/26/hear-here-love-janessa-podcast Best podcasts of the\n",
      "https://www.theguardian.com/science/audio/2023/jan/26/how-will-chatgpt-transform-creative-work-podcast How will ChatGPT tra\n",
      "https://www.theguardian.com/us-news/2023/jan/25/trump-facebook-ban-lifted-unbanned-instagram-meta-pages-latest Trump’s Facebook and\n",
      "https://www.theguardian.com/technology/2023/jan/26/state-linked-hackers-in-russia-and-iran-are-targeting-uk-groups-ncsc-warns State-linked hackers\n",
      "https://www.theguardian.com/artanddesign/2023/jan/25/pepper-spray-school-run-apocalyptic-suv-reznavi-vengeange Pepper spray for the\n",
      "https://www.theguardian.com/technology/2023/jan/25/first-uk-industrial-action-against-amazon-is-making-an-impact-says-gmb First UK industrial \n",
      "https://www.theguardian.com/us-news/commentisfree/2023/jan/27/trump-return-facebook-meta-hypocrisy-democracy Facebook is allowing\n",
      "https://www.theguardian.com/fashion/2023/jan/27/what-bereal-selfies-have-taught-me-about-my-fashion-choices The camera never lie\n",
      "https://www.theguardian.com/tv-and-radio/2023/jan/28/mumbling-actors-bad-speakers-or-lazy-listeners-why-everyone-is-watching-tv-with-subtitles-on Mumbling actors, bad\n",
      "https://www.theguardian.com/stage/2023/jan/27/saint-jude-review-swamp-motel-london Saint Jude review – \n",
      "https://www.theguardian.com/environment/2023/jan/27/daily-wire-google-ads-climate-crisis-deniers Google let Daily Wir\n",
      "https://www.theguardian.com/technology/2023/jan/27/elon-musk-doesnt-seem-like-right-person-to-own-twitter-says-co-founder Elon Musk ‘doesn’t s\n",
      "https://www.theguardian.com/us-news/2023/jan/26/uber-lyft-new-york-zero-emission-2030 Uber and Lyft in New\n",
      "https://www.theguardian.com/society/2023/jan/27/covid-lockdowns-created-online-backdoor-for-child-abusers-says-charity Covid lockdowns crea\n",
      "https://www.theguardian.com/media/2023/jan/26/buzzfeed-artifical-intelligence-content-quizzes-chatgpt BuzzFeed to use AI t\n",
      "https://www.theguardian.com/us-news/live/2023/jan/26/trump-facebook-ban-meta-biden-economy-politics-live-updates Biden vows to veto R\n"
     ]
    }
   ],
   "source": [
    "articles = ResultSet([])\n",
    "numArticles = 50\n",
    "pageNum = 1\n",
    "\n",
    "while len(articles) < numArticles:\n",
    "    url = f'https://www.theguardian.com/technology?page={pageNum}'\n",
    "    req = requests.get(url)\n",
    "    source = req.text\n",
    "    soup = BeautifulSoup(source, 'html.parser')\n",
    "    \n",
    "    articles.extend(soup.find_all('a', attrs={\n",
    "        'data-link-name' : \"article\",\n",
    "        'class' : 'u-faux-block-link__overlay js-headline-text'\n",
    "    }))\n",
    "\n",
    "articles = articles[:50]\n",
    "print(f'There are {len(articles)} articles.')\n",
    "\n",
    "for article in articles: \n",
    "    print(article['href'][:], article.text[:20])"
   ]
  },
  {
   "attachments": {},
   "cell_type": "markdown",
   "metadata": {},
   "source": [
    "### Task 4 Bonus. List All Technology-Related New Stories Published After January 20, 2023"
   ]
  },
  {
   "cell_type": "code",
   "execution_count": 86,
   "metadata": {},
   "outputs": [],
   "source": [
    "def getTimestamp(date):\n",
    "    months = {\n",
    "        'jan': '01', \n",
    "        'feb': '02', \n",
    "        'mar': '03', \n",
    "        'apr': '04', \n",
    "        'may': '05', \n",
    "        'jun': '06', \n",
    "        'jul': '07', \n",
    "        'aug': '08', \n",
    "        'sep': '09', \n",
    "        'oct': '10', \n",
    "        'nov': '11', \n",
    "        'dec': '12'\n",
    "    }\n",
    "    date = date.split('/')\n",
    "    date[1] = months[date[1]]\n",
    "    date = date[0] + '/' + date[1] + '/' + date[2]\n",
    "    \n",
    "    element = datetime.datetime.strptime(date,\"%Y/%m/%d\")\n",
    "\n",
    "    tuple = element.timetuple()\n",
    "    timestamp = time.mktime(tuple)\n",
    "\n",
    "    return timestamp"
   ]
  },
  {
   "cell_type": "code",
   "execution_count": 91,
   "metadata": {},
   "outputs": [
    {
     "name": "stdout",
     "output_type": "stream",
     "text": [
      "There are 57 articles.\n",
      "https://www.theguardian.com/us-news/commentisfree/2023/jan/27/trump-return-facebook-meta-hypocrisy-democracy 2023/jan/27\n",
      "https://www.theguardian.com/fashion/2023/jan/27/what-bereal-selfies-have-taught-me-about-my-fashion-choices 2023/jan/27\n",
      "https://www.theguardian.com/tv-and-radio/2023/jan/28/mumbling-actors-bad-speakers-or-lazy-listeners-why-everyone-is-watching-tv-with-subtitles-on 2023/jan/28\n",
      "https://www.theguardian.com/stage/2023/jan/27/saint-jude-review-swamp-motel-london 2023/jan/27\n",
      "https://www.theguardian.com/environment/2023/jan/27/daily-wire-google-ads-climate-crisis-deniers 2023/jan/27\n",
      "https://www.theguardian.com/technology/2023/jan/27/elon-musk-doesnt-seem-like-right-person-to-own-twitter-says-co-founder 2023/jan/27\n",
      "https://www.theguardian.com/us-news/2023/jan/26/uber-lyft-new-york-zero-emission-2030 2023/jan/26\n",
      "https://www.theguardian.com/society/2023/jan/27/covid-lockdowns-created-online-backdoor-for-child-abusers-says-charity 2023/jan/27\n",
      "https://www.theguardian.com/media/2023/jan/26/buzzfeed-artifical-intelligence-content-quizzes-chatgpt 2023/jan/26\n",
      "https://www.theguardian.com/us-news/live/2023/jan/26/trump-facebook-ban-meta-biden-economy-politics-live-updates 2023/jan/26\n",
      "https://www.theguardian.com/science/2023/jan/26/science-journals-ban-listing-of-chatgpt-as-co-author-on-papers 2023/jan/26\n",
      "https://www.theguardian.com/us-news/2023/jan/26/hive-ransomware-servers-seized-us 2023/jan/26\n",
      "https://www.theguardian.com/us-news/2023/jan/26/donald-trump-truth-social-posts-bode-ill-return-facebook 2023/jan/26\n",
      "https://www.theguardian.com/media/2023/jan/26/the-one-change-that-didnt-work-giving-up-social-media-left-me-bored 2023/jan/26\n",
      "https://www.theguardian.com/tv-and-radio/2023/jan/26/hear-here-love-janessa-podcast 2023/jan/26\n",
      "https://www.theguardian.com/science/audio/2023/jan/26/how-will-chatgpt-transform-creative-work-podcast 2023/jan/26\n",
      "https://www.theguardian.com/us-news/2023/jan/25/trump-facebook-ban-lifted-unbanned-instagram-meta-pages-latest 2023/jan/25\n",
      "https://www.theguardian.com/technology/2023/jan/26/state-linked-hackers-in-russia-and-iran-are-targeting-uk-groups-ncsc-warns 2023/jan/26\n",
      "https://www.theguardian.com/artanddesign/2023/jan/25/pepper-spray-school-run-apocalyptic-suv-reznavi-vengeange 2023/jan/25\n",
      "https://www.theguardian.com/technology/2023/jan/25/first-uk-industrial-action-against-amazon-is-making-an-impact-says-gmb 2023/jan/25\n",
      "https://www.theguardian.com/politics/2023/jan/25/greedy-tories-that-rings-a-steve-bell 2023/jan/25\n",
      "https://www.theguardian.com/world/2023/jan/25/india-ban-on-bbc-modi-film-elon-musk-twitter-free-speech-emergency-laws 2023/jan/25\n",
      "https://www.theguardian.com/commentisfree/2023/jan/25/how-i-would-fix-twitter-if-i-were-ceo-margaret-sullivan 2023/jan/25\n",
      "https://www.theguardian.com/technology/2023/jan/25/microsoft-investigates-outage-affecting-teams-and-outlook-users-worldwide 2023/jan/25\n",
      "https://www.theguardian.com/commentisfree/2023/jan/25/filming-strangers-public-social-media 2023/jan/25\n",
      "https://www.theguardian.com/global-development/2023/jan/25/brazil-kenya-the-us-tech-giants-are-putting-democracy-in-peril-the-world-over 2023/jan/25\n",
      "https://www.theguardian.com/australia-news/2023/jan/25/dating-app-background-and-id-checks-being-considered-in-bid-to-fight-abuse 2023/jan/25\n",
      "https://www.theguardian.com/lifeandstyle/2023/jan/25/dating-apps-survey-questionnaire 2023/jan/25\n",
      "https://www.theguardian.com/australia-news/2023/jan/25/protesters-against-south-australian-councils-big-brother-tech-invoke-liberal-alex-antics-video 2023/jan/25\n",
      "https://www.theguardian.com/technology/2023/jan/25/musk-tells-court-he-lacked-specific-funding-to-take-tesla-private 2023/jan/25\n",
      "https://www.theguardian.com/technology/2023/jan/24/justice-department-lawsuit-google-antitrust-law-advertising 2023/jan/24\n",
      "https://www.theguardian.com/technology/2023/jan/24/twitter-sued-by-crown-estate-alleged-unpaid-rent-london-hq 2023/jan/24\n",
      "https://www.theguardian.com/film/2023/jan/24/the-wandering-earth-ii-review-frant-gwo 2023/jan/24\n",
      "https://www.theguardian.com/commentisfree/2023/jan/24/chatgpt-artificial-intelligence-jobs-economy 2023/jan/24\n",
      "https://www.theguardian.com/technology/2023/jan/24/techscape-tiktok-ban-privacy-china 2023/jan/24\n",
      "https://www.theguardian.com/lifeandstyle/2023/jan/23/fraud-investigation-super-rich 2023/jan/23\n",
      "https://www.theguardian.com/technology/2023/jan/23/microsoft-confirms-multibillion-dollar-investment-in-firm-behind-chatgpt 2023/jan/23\n",
      "https://www.theguardian.com/uk-news/2023/jan/23/zahawis-professed-lack-of-care-makes-him-unfit-for-government 2023/jan/23\n",
      "https://www.theguardian.com/technology/2023/jan/23/spotify-to-cut-600-jobs-ceo-admits-expanding-too-quickly-pandemic-tech 2023/jan/23\n",
      "https://www.theguardian.com/environment/2023/jan/23/no-miracles-needed-prof-mark-jacobson-on-how-wind-sun-and-water-can-power-the-world 2023/jan/23\n",
      "https://www.theguardian.com/business/2023/jan/23/activist-investor-elliott-stake-slack-owner-salesforce 2023/jan/23\n",
      "https://www.theguardian.com/technology/2023/jan/23/twitter-ad-free-subscription-tier-elon-musk-advertising 2023/jan/23\n",
      "https://www.theguardian.com/technology/2023/jan/23/surface-pro-9-review-microsofts-best-tablet-if-you-pick-the-right-one 2023/jan/23\n",
      "https://www.theguardian.com/commentisfree/2023/jan/23/african-leaders-who-dilute-workers-rights-for-ubers-digital-empire-harm-africa 2023/jan/23\n",
      "https://www.theguardian.com/artanddesign/2023/jan/23/its-the-opposite-of-art-why-illustrators-are-furious-about-ai 2023/jan/23\n",
      "https://www.theguardian.com/technology/2023/jan/22/elon-musk-twitter-debt 2023/jan/22\n",
      "https://www.theguardian.com/australia-news/2023/jan/23/queensland-public-schools-to-join-nsw-in-banning-students-from-chatgpt 2023/jan/23\n",
      "https://www.theguardian.com/australia-news/2023/jan/23/child-cyberbullying-at-concerning-levels-australias-esafety-commissioner-says 2023/jan/23\n",
      "https://www.theguardian.com/world/2023/jan/22/karen-levy-the-more-workers-are-monitored-the-less-likely-they-are-to-think-outside-the-box 2023/jan/22\n",
      "https://www.theguardian.com/world/2023/jan/22/japans-hi-tech-restaurants-secret-world-robot-sushi-chefs 2023/jan/22\n",
      "https://www.theguardian.com/commentisfree/2023/jan/22/the-observer-view-on-the-free-market-thinking-that-failed-britishvolt 2023/jan/22\n",
      "https://www.theguardian.com/technology/2023/jan/22/first-industrial-action-at-amazon-uk-hopes-to-strike-at-firms-union-hostility 2023/jan/22\n",
      "https://www.theguardian.com/commentisfree/2023/jan/22/what-are-we-worrying-about-when-we-worry-about-tiktok 2023/jan/22\n",
      "https://www.theguardian.com/us-news/2023/jan/21/elizabeth-holmes-mexico-plane-ticket-prosecutors 2023/jan/21\n",
      "https://www.theguardian.com/business/2023/jan/21/rentokil-pilots-facial-recognition-system-as-way-to-exterminate-rats 2023/jan/21\n",
      "https://www.theguardian.com/commentisfree/2023/jan/21/back-to-the-future-how-mastodon-is-restoring-the-lost-art-of-online-conversation 2023/jan/21\n",
      "https://www.theguardian.com/environment/2023/jan/21/phone-monitor-helps-london-tube-passengers-avoid-polluted-routes 2023/jan/21\n"
     ]
    }
   ],
   "source": [
    "articles = []\n",
    "numArticles = 50\n",
    "pageNum = 1\n",
    "dateAfter = '2023/jan/20'\n",
    "afterTimestamp = getTimestamp(dateAfter)\n",
    "dateReached = False\n",
    "\n",
    "# Loop through multiple pages if required \n",
    "while not dateReached:\n",
    "    # Scrape a page of the all technology page\n",
    "    url = f'https://www.theguardian.com/technology?page={pageNum}'\n",
    "    req = requests.get(url)\n",
    "    source = req.text\n",
    "    soup = BeautifulSoup(source, 'html.parser')\n",
    "    \n",
    "    # Find the desired HTML blocks \n",
    "    pageResults = soup.find_all('a', attrs={\n",
    "        'data-link-name' : \"article\",\n",
    "        'class' : 'u-faux-block-link__overlay js-headline-text'\n",
    "    })\n",
    "\n",
    "    # Add each result if it is after the date\n",
    "    for result in pageResults:\n",
    "        # Extract timestamp from URL\n",
    "        strippedURL = result['href'].removeprefix('https://www.theguardian.com/')\n",
    "        splitURL = strippedURL.split('/')\n",
    "        while not splitURL[0].isnumeric():\n",
    "            splitURL.pop(0)\n",
    "        articleTimestamp = getTimestamp(splitURL[0] + '/' + splitURL[1] + '/' + splitURL[2])\n",
    "        \n",
    "        # Add the article if it is after the date otherwise stop\n",
    "        if articleTimestamp > afterTimestamp:\n",
    "            articles.append(result['href'] + ' ' + splitURL[0] + '/' + splitURL[1] + '/' + splitURL[2])\n",
    "        else:\n",
    "            dateReached = True\n",
    "            break\n",
    "\n",
    "    pageNum += 1\n",
    "\n",
    "print(f'There are {len(articles)} articles.')\n",
    "\n",
    "for article in articles: \n",
    "    print(article)"
   ]
  },
  {
   "attachments": {},
   "cell_type": "markdown",
   "metadata": {},
   "source": [
    "## Using the Guiardian API\n",
    "\n",
    "### Task 6. Response Statistics"
   ]
  },
  {
   "cell_type": "code",
   "execution_count": 106,
   "metadata": {},
   "outputs": [
    {
     "name": "stdout",
     "output_type": "stream",
     "text": [
      "Number of technology articles received: 55874\n",
      "Page Size: 100\n",
      "Number of Pages: 559\n"
     ]
    }
   ],
   "source": [
    "# Specify the arguments\n",
    "args = {\n",
    "    'section': 'technology', \n",
    "    'order-by': 'newest', \n",
    "    'api-key': '9f99c898-8179-42d1-8f7a-ee5593985239', \n",
    "    'page-size': '100',\n",
    "}\n",
    "\n",
    "# Construct the URL\n",
    "base_url = 'http://content.guardianapis.com/search'\n",
    "url = '{}?{}'.format(\n",
    "    base_url, \n",
    "    '&'.join([\"{}={}\".format(kk, vv) for kk, vv in args.items()])\n",
    ")\n",
    "\n",
    "# Make the request and extract the source\n",
    "req = requests.get(url) \n",
    "src = req.text\n",
    "\n",
    "response = json.loads(src)['response']\n",
    "\n",
    "print('Number of technology articles received:', response['total'])\n",
    "print('Page Size:', response['pageSize'])\n",
    "print('Number of Pages:', response['pages'])"
   ]
  },
  {
   "attachments": {},
   "cell_type": "markdown",
   "metadata": {},
   "source": [
    "### Task 7. News Stories About a Specific Topic"
   ]
  },
  {
   "cell_type": "code",
   "execution_count": 130,
   "metadata": {},
   "outputs": [
    {
     "name": "stdout",
     "output_type": "stream",
     "text": [
      "Number of technology articles received: 41\n",
      "https://www.theguardian.com/technology/2022/jul/06/uk-could-force-messaging-apps-to-scan-for-child-sexual-abuse-images\n",
      "https://www.theguardian.com/technology/2021/oct/08/i-might-delete-it-facebooks-problem-with-younger-users\n",
      "https://www.theguardian.com/technology/2021/oct/06/tell-us-are-you-considering-leaving-facebooks-platforms\n",
      "https://www.theguardian.com/technology/2021/aug/13/uk-security-chiefs-issue-guidance-after-hackers-target-ministers-on-whatsapp\n",
      "https://www.theguardian.com/technology/2021/jun/13/whatsapp-boss-decries-attacks-on-encryption-as-orwellian\n",
      "https://www.theguardian.com/technology/2021/may/11/what-happens-when-whatsapp-new-terms-start-on-15-may\n",
      "https://www.theguardian.com/technology/2021/may/09/how-private-is-your-gmail-and-should-you-switch\n",
      "https://www.theguardian.com/technology/2021/feb/22/whatsapp-to-try-again-to-change-privacy-policy-in-mid-may\n",
      "https://www.theguardian.com/technology/2021/feb/14/facebook-v-apple-the-looming-showdown-over-data-tracking-and-privacy\n",
      "https://www.theguardian.com/technology/2021/jan/26/uk-regulator-to-write-to-whatsapp-over-facebook-data-sharing\n",
      "https://www.theguardian.com/technology/2021/jan/24/whatsapp-loses-millions-of-users-after-terms-update\n",
      "https://www.theguardian.com/technology/2021/jan/24/is-it-time-to-leave-whatsapp-and-is-signal-the-answer\n",
      "https://www.theguardian.com/technology/2021/jan/16/should-you-keep-using-whatsapp-plus-five-tips-to-start-the-year-with-your-digital-privacy-intact\n",
      "https://www.theguardian.com/technology/askjack/2018/jun/28/can-my-employer-read-emails-in-my-gmail-account\n",
      "https://www.theguardian.com/technology/2018/mar/31/youve-decided-to-delete-facebook-but-what-will-you-replace-it-with\n",
      "https://www.theguardian.com/technology/2018/feb/05/whatsapp-deleting-year-what-i-learned\n",
      "https://www.theguardian.com/technology/2017/jul/14/forcing-facebook-google-to-give-police-access-to-encrypted-messages-doesnt-add-up\n",
      "https://www.theguardian.com/technology/2017/jun/19/eu-outlaw-backdoors-new-data-privacy-proposals-uk-government-encrypted-communications-whatsapp\n",
      "https://www.theguardian.com/technology/2017/jun/12/george-brandiss-salvo-in-cryptowars-could-blow-a-hole-in-architecture-of-the-internet\n",
      "https://www.theguardian.com/technology/2017/mar/26/from-whatsapp-to-playstation-how-the-messaging-services-differ\n",
      "https://www.theguardian.com/technology/2017/mar/08/wikileaks-vault-7-cia-documents-hacked-what-you-need-to-know\n",
      "https://www.theguardian.com/technology/2017/mar/07/cia-targeting-devices-smartphones-pc-tv-wikileaks\n",
      "https://www.theguardian.com/technology/2017/mar/05/political-rebels-whatsapp-encryption-technology-mps-security\n",
      "https://www.theguardian.com/technology/2017/jan/14/whatsapp-vulnerability-secure-messaging-apps\n",
      "https://www.theguardian.com/technology/2017/jan/13/dissidents-disappointed-but-not-surprised-by-whatsapp-security-flaw\n",
      "https://www.theguardian.com/technology/2017/jan/13/should-i-be-worried-about-whatsapp-security\n",
      "https://www.theguardian.com/technology/2017/jan/13/whatsapp-design-feature-encrypted-messages\n",
      "https://www.theguardian.com/technology/askjack/2016/nov/24/how-can-i-protect-myself-from-government-snoopers\n",
      "https://www.theguardian.com/technology/2016/nov/10/nsa-trump-protect-yourself\n",
      "https://www.theguardian.com/technology/2016/aug/25/whatsapp-backlash-facebook-data-privacy-users\n",
      "https://www.theguardian.com/technology/2016/apr/05/whatsapp-rolls-out-full-encryption-to-a-billion-messenger-users\n",
      "https://www.theguardian.com/technology/2016/mar/21/apple-fbi-encryption-battle\n",
      "https://www.theguardian.com/technology/2016/mar/14/facebook-google-whatsapp-plan-increase-encryption-fbi-apple\n",
      "https://www.theguardian.com/technology/2016/mar/01/apple-fbi-encryption-fight-security-experts-rsa\n",
      "https://www.theguardian.com/technology/2015/dec/25/got-a-new-smartphone-heres-how-to-get-the-best-out-of-it\n",
      "https://www.theguardian.com/technology/2015/may/13/bittorrent-bleep-secure-messaging-app\n",
      "https://www.theguardian.com/technology/2014/dec/11/messenger-private-chats\n",
      "https://www.theguardian.com/technology/2014/dec/04/-sp-ten-best-messaging-apps\n",
      "https://www.theguardian.com/technology/2014/nov/19/whatsapp-messaging-encryption-android-ios\n",
      "https://www.theguardian.com/technology/2014/jun/06/bigger-iphone-apple-wwdc-ios8-mac-osx-cloud\n",
      "https://www.theguardian.com/technology/shortcuts/2014/feb/02/what-messaging-ap-says-about-you\n"
     ]
    }
   ],
   "source": [
    "# Specify the arguments\n",
    "args = {\n",
    "    'section': 'technology', \n",
    "    'order-by': 'newest', \n",
    "    'api-key': '9f99c898-8179-42d1-8f7a-ee5593985239', \n",
    "    'page-size': '100',\n",
    "    'q' : 'privacy%20AND%20WhatsApp%20AND%20Signal%20AND%20NOT%20(artificial$20intelligence%20OR%20AI)'\n",
    "}\n",
    "\n",
    "# Construct the URL\n",
    "base_url = 'http://content.guardianapis.com/search'\n",
    "url = '{}?{}'.format(\n",
    "    base_url, \n",
    "    '&'.join([\"{}={}\".format(kk, vv) for kk, vv in args.items()])\n",
    ")\n",
    "\n",
    "# Make the request and extract the source\n",
    "req = requests.get(url) \n",
    "src = req.text\n",
    "\n",
    "response = json.loads(src)['response']\n",
    "\n",
    "print('Number of technology articles received:', response['total'])\n",
    "for result in response['results']: \n",
    "    print(result['webUrl'])"
   ]
  },
  {
   "attachments": {},
   "cell_type": "markdown",
   "metadata": {},
   "source": [
    "### Task 8. Requesting Specific Content Using the API"
   ]
  },
  {
   "cell_type": "code",
   "execution_count": 132,
   "metadata": {},
   "outputs": [
    {
     "name": "stdout",
     "output_type": "stream",
     "text": [
      "Article ID: technology/2021/oct/08/i-might-delete-it-facebooks-problem-with-younger-users\n"
     ]
    }
   ],
   "source": [
    "i = 1\n",
    "api_url = response['results'][i]['apiUrl']\n",
    "api_id = response['results'][i]['id']\n",
    "\n",
    "base_url = \"https://content.guardianapis.com/search?\"\n",
    "search_string = \"ids=%s&api-key=%s&show-fields=headline,body\" %(api_id,\n",
    "'9f99c898-8179-42d1-8f7a-ee5593985239')\n",
    "url = base_url + search_string\n",
    "\n",
    "# Make the request and extract the source\n",
    "req = requests.get(url) \n",
    "src = req.text\n",
    "\n",
    "resp = json.loads(src)['response']\n",
    "\n",
    "print('Article ID:', resp['results'][0]['id'])"
   ]
  },
  {
   "attachments": {},
   "cell_type": "markdown",
   "metadata": {},
   "source": [
    "### Task 9. Simple Text Processing to Prepare Data for Analysis"
   ]
  },
  {
   "cell_type": "code",
   "execution_count": 182,
   "metadata": {},
   "outputs": [
    {
     "name": "stdout",
     "output_type": "stream",
     "text": [
      "There are 911 words in the article\n",
      "There are 406 unique words in the article\n"
     ]
    },
    {
     "data": {
      "text/html": [
       "<div>\n",
       "<style scoped>\n",
       "    .dataframe tbody tr th:only-of-type {\n",
       "        vertical-align: middle;\n",
       "    }\n",
       "\n",
       "    .dataframe tbody tr th {\n",
       "        vertical-align: top;\n",
       "    }\n",
       "\n",
       "    .dataframe thead th {\n",
       "        text-align: right;\n",
       "    }\n",
       "</style>\n",
       "<table border=\"1\" class=\"dataframe\">\n",
       "  <thead>\n",
       "    <tr style=\"text-align: right;\">\n",
       "      <th></th>\n",
       "      <th>0</th>\n",
       "      <th>1</th>\n",
       "      <th>2</th>\n",
       "      <th>3</th>\n",
       "      <th>4</th>\n",
       "      <th>5</th>\n",
       "      <th>6</th>\n",
       "      <th>7</th>\n",
       "      <th>8</th>\n",
       "      <th>9</th>\n",
       "      <th>...</th>\n",
       "      <th>396</th>\n",
       "      <th>397</th>\n",
       "      <th>398</th>\n",
       "      <th>399</th>\n",
       "      <th>400</th>\n",
       "      <th>401</th>\n",
       "      <th>402</th>\n",
       "      <th>403</th>\n",
       "      <th>404</th>\n",
       "      <th>405</th>\n",
       "    </tr>\n",
       "  </thead>\n",
       "  <tbody>\n",
       "    <tr>\n",
       "      <th>0</th>\n",
       "      <td>key</td>\n",
       "      <td>health</td>\n",
       "      <td>will</td>\n",
       "      <td>three</td>\n",
       "      <td>most</td>\n",
       "      <td>british</td>\n",
       "      <td>student</td>\n",
       "      <td>decisions</td>\n",
       "      <td>during</td>\n",
       "      <td>in</td>\n",
       "      <td>...</td>\n",
       "      <td>covid</td>\n",
       "      <td>account</td>\n",
       "      <td>consternation</td>\n",
       "      <td>just</td>\n",
       "      <td>new</td>\n",
       "      <td>how</td>\n",
       "      <td>their</td>\n",
       "      <td>least</td>\n",
       "      <td>messaging</td>\n",
       "      <td>not</td>\n",
       "    </tr>\n",
       "    <tr>\n",
       "      <th>1</th>\n",
       "      <td>3</td>\n",
       "      <td>1</td>\n",
       "      <td>1</td>\n",
       "      <td>2</td>\n",
       "      <td>3</td>\n",
       "      <td>1</td>\n",
       "      <td>1</td>\n",
       "      <td>1</td>\n",
       "      <td>1</td>\n",
       "      <td>19</td>\n",
       "      <td>...</td>\n",
       "      <td>1</td>\n",
       "      <td>1</td>\n",
       "      <td>1</td>\n",
       "      <td>2</td>\n",
       "      <td>1</td>\n",
       "      <td>1</td>\n",
       "      <td>2</td>\n",
       "      <td>1</td>\n",
       "      <td>1</td>\n",
       "      <td>6</td>\n",
       "    </tr>\n",
       "  </tbody>\n",
       "</table>\n",
       "<p>2 rows × 406 columns</p>\n",
       "</div>"
      ],
      "text/plain": [
       "   0       1     2      3     4        5        6          7       8   9    \\\n",
       "0  key  health  will  three  most  british  student  decisions  during  in   \n",
       "1    3       1     1      2     3        1        1          1       1  19   \n",
       "\n",
       "   ...    396      397            398   399  400  401    402    403  \\\n",
       "0  ...  covid  account  consternation  just  new  how  their  least   \n",
       "1  ...      1        1              1     2    1    1      2      1   \n",
       "\n",
       "         404  405  \n",
       "0  messaging  not  \n",
       "1          1    6  \n",
       "\n",
       "[2 rows x 406 columns]"
      ]
     },
     "execution_count": 182,
     "metadata": {},
     "output_type": "execute_result"
    }
   ],
   "source": [
    "def specialInWord(word, special='\\/[]()%…–-'):\n",
    "    for char in special:\n",
    "        if char in word:\n",
    "            return True\n",
    "    \n",
    "    return False\n",
    "\n",
    "# Get the body of the article\n",
    "body = resp['results'][0]['fields']['body']\n",
    "\n",
    "# Remove all HTML tags using a RegEx\n",
    "body = re.sub(\"\\<.*?\\>\",\"\",body).lower()\n",
    "body = body.replace('.', '')\n",
    "body = body.replace(',', '')\n",
    "body = body.replace('\"', '')\n",
    "body = body.replace('“', '')\n",
    "\n",
    "words = body.split(' ')\n",
    "# Clean words\n",
    "i = 0\n",
    "while i < len(words): \n",
    "    word = words[i]    \n",
    "    if word.isnumeric() or word == '' or specialInWord(word):\n",
    "        words.pop(i)\n",
    "    else:\n",
    "        i += 1\n",
    "\n",
    "uniqueWords = list(set(words))\n",
    "\n",
    "print(f'There are {len(words)} words in the article')\n",
    "print(f'There are {len(uniqueWords)} unique words in the article')\n",
    "\n",
    "counts = []\n",
    "for word in uniqueWords:\n",
    "    counts.append(words.count(word))\n",
    "\n",
    "pandas.DataFrame([uniqueWords, counts])"
   ]
  },
  {
   "cell_type": "code",
   "execution_count": null,
   "metadata": {},
   "outputs": [],
   "source": []
  }
 ],
 "metadata": {
  "kernelspec": {
   "display_name": "Python 3",
   "language": "python",
   "name": "python3"
  },
  "language_info": {
   "codemirror_mode": {
    "name": "ipython",
    "version": 3
   },
   "file_extension": ".py",
   "mimetype": "text/x-python",
   "name": "python",
   "nbconvert_exporter": "python",
   "pygments_lexer": "ipython3",
   "version": "3.10.6"
  },
  "orig_nbformat": 4,
  "vscode": {
   "interpreter": {
    "hash": "916dbcbb3f70747c44a77c7bcd40155683ae19c65e1c03b4aa3499c5328201f1"
   }
  }
 },
 "nbformat": 4,
 "nbformat_minor": 2
}
